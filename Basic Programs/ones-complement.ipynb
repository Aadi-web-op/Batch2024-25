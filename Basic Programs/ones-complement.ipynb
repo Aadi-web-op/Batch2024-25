{
 "cells": [
  {
   "cell_type": "code",
   "execution_count": 1,
   "metadata": {},
   "outputs": [
    {
     "name": "stdout",
     "output_type": "stream",
     "text": [
      "0b1010\n"
     ]
    }
   ],
   "source": [
    "a = 10\n",
    "print(bin(a))"
   ]
  },
  {
   "cell_type": "code",
   "execution_count": 2,
   "metadata": {},
   "outputs": [
    {
     "data": {
      "text/plain": [
       "'-0b1011'"
      ]
     },
     "execution_count": 2,
     "metadata": {},
     "output_type": "execute_result"
    }
   ],
   "source": [
    "bin(~a)"
   ]
  },
  {
   "cell_type": "code",
   "execution_count": 2,
   "metadata": {},
   "outputs": [
    {
     "name": "stdout",
     "output_type": "stream",
     "text": [
      "9\n"
     ]
    }
   ],
   "source": [
    "a = -10\n",
    "out = ~a\n",
    "print(out)"
   ]
  },
  {
   "cell_type": "code",
   "execution_count": 4,
   "metadata": {},
   "outputs": [
    {
     "name": "stdout",
     "output_type": "stream",
     "text": [
      "245\n"
     ]
    }
   ],
   "source": [
    "a = 0b11110101\n",
    "print(a)"
   ]
  },
  {
   "cell_type": "code",
   "execution_count": 1,
   "metadata": {},
   "outputs": [
    {
     "name": "stdout",
     "output_type": "stream",
     "text": [
      "4410\n"
     ]
    }
   ],
   "source": [
    "income = 5000\n",
    "rent = 1200\n",
    "groceries = 300\n",
    "savings = income - (rent + groceries * 2) // 3 + (savings_percentage := 10)\n",
    "print(savings)"
   ]
  },
  {
   "cell_type": "code",
   "execution_count": 5,
   "metadata": {},
   "outputs": [
    {
     "name": "stdout",
     "output_type": "stream",
     "text": [
      "23\n",
      "23\n"
     ]
    }
   ],
   "source": [
    "a = 10\n",
    "print(d := 23)\n",
    "print(d)"
   ]
  },
  {
   "cell_type": "code",
   "execution_count": 6,
   "metadata": {},
   "outputs": [
    {
     "name": "stdout",
     "output_type": "stream",
     "text": [
      "12\n"
     ]
    }
   ],
   "source": [
    "a = 3 * (r := 2)**2\n",
    "print(a)"
   ]
  },
  {
   "cell_type": "code",
   "execution_count": 4,
   "metadata": {},
   "outputs": [
    {
     "name": "stdout",
     "output_type": "stream",
     "text": [
      "-7\n"
     ]
    }
   ],
   "source": [
    "# Operators \n",
    "# ~var[unary operators] (-(n+1))\n",
    "a = 6\n",
    "out = ~a\n",
    "print(out)"
   ]
  },
  {
   "cell_type": "code",
   "execution_count": 4,
   "metadata": {},
   "outputs": [
    {
     "name": "stdout",
     "output_type": "stream",
     "text": [
      "10\n"
     ]
    }
   ],
   "source": [
    "# Formula : -(n+1)\n",
    "\n",
    "a = -11\n",
    "print(~a)"
   ]
  },
  {
   "cell_type": "code",
   "execution_count": null,
   "metadata": {},
   "outputs": [],
   "source": []
  },
  {
   "cell_type": "code",
   "execution_count": 2,
   "metadata": {},
   "outputs": [
    {
     "name": "stdout",
     "output_type": "stream",
     "text": [
      "10\n"
     ]
    }
   ],
   "source": [
    "a = -11\n",
    "out = ~a\n",
    "print(out)"
   ]
  },
  {
   "cell_type": "code",
   "execution_count": 16,
   "metadata": {},
   "outputs": [
    {
     "name": "stdout",
     "output_type": "stream",
     "text": [
      "Odd\n"
     ]
    }
   ],
   "source": [
    "# If Only Statement \n",
    "'''\n",
    "if test_expression:\n",
    "    statements\n",
    "'''\n",
    "num = 23\n",
    "if num == 0:\n",
    "    print('number is Zero')\n",
    "elif num % 2 == 0:\n",
    "    print('Even')\n",
    "else:\n",
    "    print('Odd')"
   ]
  },
  {
   "cell_type": "code",
   "execution_count": 19,
   "metadata": {},
   "outputs": [
    {
     "name": "stdout",
     "output_type": "stream",
     "text": [
      "User Given Time: 60.0\n",
      "Tank is Overflow\n",
      "Overflow volume 115.0\n"
     ]
    }
   ],
   "source": [
    "# Water Tank Problem \n",
    "h = 10\n",
    "r = 5\n",
    "F = 15\n",
    "\n",
    "t = float(input('Enter the time '))\n",
    "Vwtr = F * t\n",
    "Vtank = 3.14 * r ** 2 * h\n",
    "print('User Given Time:', t)\n",
    "if Vwtr == Vtank:\n",
    "    print('Tank is Full')\n",
    "elif Vwtr > Vtank:\n",
    "    print('Tank is Overflow')\n",
    "    print('Overflow volume', Vwtr - Vtank)\n",
    "else:\n",
    "    print('Underflow Condition')\n",
    "    ht = Vwtr / (3.14 * r ** 2)\n",
    "    hr = h - ht\n",
    "    print('Filled Height', ht)\n",
    "    print('Remaining Height', hr)"
   ]
  }
 ],
 "metadata": {
  "kernelspec": {
   "display_name": "Python 3",
   "language": "python",
   "name": "python3"
  },
  "language_info": {
   "codemirror_mode": {
    "name": "ipython",
    "version": 3
   },
   "file_extension": ".py",
   "mimetype": "text/x-python",
   "name": "python",
   "nbconvert_exporter": "python",
   "pygments_lexer": "ipython3",
   "version": "3.11.5"
  }
 },
 "nbformat": 4,
 "nbformat_minor": 2
}
