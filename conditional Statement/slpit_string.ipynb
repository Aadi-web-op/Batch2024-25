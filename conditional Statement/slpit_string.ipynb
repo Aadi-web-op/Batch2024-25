{
 "cells": [
  {
   "cell_type": "code",
   "execution_count": 19,
   "metadata": {},
   "outputs": [
    {
     "name": "stdout",
     "output_type": "stream",
     "text": [
      "h 22\n",
      "m 23\n",
      "s 01\n"
     ]
    }
   ],
   "source": [
    "h, m, s= '22:23:01'.split(':')\n",
    "h = int(h)\n",
    "m = int(m)\n",
    "s = int(s)\n",
    "\n",
    "print('h', h)\n",
    "print('m', m)\n",
    "print('s', s)\n"
   ]
  },
  {
   "cell_type": "code",
   "execution_count": 4,
   "metadata": {},
   "outputs": [
    {
     "name": "stdout",
     "output_type": "stream",
     "text": [
      "['12', '$', '45']\n"
     ]
    }
   ],
   "source": [
    "st = '12 $ 45'.split()\n",
    "print(st)"
   ]
  },
  {
   "cell_type": "code",
   "execution_count": 17,
   "metadata": {},
   "outputs": [
    {
     "name": "stdout",
     "output_type": "stream",
     "text": [
      "a 3\n",
      "b 6\n",
      "c [5, 8, 9]\n"
     ]
    }
   ],
   "source": [
    "a, b, *c = 3, 6, 5, 8, 9\n",
    "print('a', a)\n",
    "print('b', b)\n",
    "print('c', c)"
   ]
  },
  {
   "cell_type": "code",
   "execution_count": null,
   "metadata": {},
   "outputs": [],
   "source": []
  }
 ],
 "metadata": {
  "kernelspec": {
   "display_name": "Python 3",
   "language": "python",
   "name": "python3"
  },
  "language_info": {
   "codemirror_mode": {
    "name": "ipython",
    "version": 3
   },
   "file_extension": ".py",
   "mimetype": "text/x-python",
   "name": "python",
   "nbconvert_exporter": "python",
   "pygments_lexer": "ipython3",
   "version": "3.12.1"
  }
 },
 "nbformat": 4,
 "nbformat_minor": 2
}
