{
 "cells": [
  {
   "cell_type": "code",
   "execution_count": null,
   "metadata": {},
   "outputs": [],
   "source": [
    "# if-elif-else\n",
    "'''\n",
    "syntax\n",
    "if test_expression:\n",
    "    statements\n",
    "elif test_expression:\n",
    "    statements\n",
    "else:\n",
    "    statements\n",
    "'''"
   ]
  },
  {
   "cell_type": "code",
   "execution_count": 4,
   "metadata": {},
   "outputs": [
    {
     "name": "stdout",
     "output_type": "stream",
     "text": [
      "Number is Odd\n"
     ]
    }
   ],
   "source": [
    "#\n",
    "num = 5\n",
    "if num == 0:\n",
    "    print('Number is Zero')\n",
    "elif num % 2 == 0:\n",
    "    print('Number is Even')\n",
    "else:\n",
    "    print('Number is Odd')"
   ]
  },
  {
   "cell_type": "code",
   "execution_count": 2,
   "metadata": {},
   "outputs": [
    {
     "name": "stdout",
     "output_type": "stream",
     "text": [
      "Before\n",
      "a=20\n",
      "b=10\n",
      "After\n",
      "a=10\n",
      "b=20\n"
     ]
    }
   ],
   "source": [
    "a = 20\n",
    "b = 10\n",
    "print('Before')\n",
    "print(f'{a=}')\n",
    "print(f'{b=}')\n",
    "a, b = b, a\n",
    "print('After')\n",
    "print(f'{a=}')\n",
    "print(f'{b=}')"
   ]
  }
 ],
 "metadata": {
  "kernelspec": {
   "display_name": "Python 3",
   "language": "python",
   "name": "python3"
  },
  "language_info": {
   "codemirror_mode": {
    "name": "ipython",
    "version": 3
   },
   "file_extension": ".py",
   "mimetype": "text/x-python",
   "name": "python",
   "nbconvert_exporter": "python",
   "pygments_lexer": "ipython3",
   "version": "3.12.1"
  }
 },
 "nbformat": 4,
 "nbformat_minor": 2
}
