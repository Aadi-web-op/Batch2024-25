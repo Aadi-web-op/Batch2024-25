{
 "cells": [
  {
   "cell_type": "code",
   "execution_count": 2,
   "metadata": {},
   "outputs": [
    {
     "name": "stdout",
     "output_type": "stream",
     "text": [
      "Sum of 10 and 20 is 30\n"
     ]
    }
   ],
   "source": [
    "# String Format\n",
    "# helps to decorate the output \n",
    "a = 10\n",
    "b = 20\n",
    "c = a + b\n",
    "print('Sum of %d and %d is %d'%(a, b, c))"
   ]
  },
  {
   "cell_type": "code",
   "execution_count": 11,
   "metadata": {},
   "outputs": [
    {
     "name": "stdout",
     "output_type": "stream",
     "text": [
      "sum of 10 and 20 is 30\n"
     ]
    }
   ],
   "source": [
    "num1 = 10\n",
    "num2 = 20\n",
    "out = num1+num2\n",
    "print('sum of',num1,'and',num2,'is',out)"
   ]
  },
  {
   "cell_type": "code",
   "execution_count": 23,
   "metadata": {},
   "outputs": [
    {
     "name": "stdout",
     "output_type": "stream",
     "text": [
      "Sum of 1990 and 30 is hello\n"
     ]
    }
   ],
   "source": [
    "# Addition of number with format string (% format: placeholders %d, %f, %s..)\n",
    "num1 = 1990\n",
    "num2 = 30\n",
    "# out = num1 + num2\n",
    "out = 'hello'\n",
    "tmp = 'Sum of %d and %d is %s'%(num1, num2, out)\n",
    "print(tmp)"
   ]
  },
  {
   "cell_type": "code",
   "execution_count": 18,
   "metadata": {},
   "outputs": [
    {
     "data": {
      "text/plain": [
       "'hellhshhd100sjjfjo'"
      ]
     },
     "execution_count": 18,
     "metadata": {},
     "output_type": "execute_result"
    }
   ],
   "source": [
    "'hellhshhd%dsjjfjo'%100"
   ]
  },
  {
   "cell_type": "code",
   "execution_count": 31,
   "metadata": {},
   "outputs": [
    {
     "name": "stdout",
     "output_type": "stream",
     "text": [
      "sum of  30 and 30 is 30\n"
     ]
    }
   ],
   "source": [
    "# .format method \n",
    "num1 = 10\n",
    "num2 = 20\n",
    "out = num1 + num2\n",
    "# out = 'hello'\n",
    "tmp = 'sum of  {2} and {2} is {2}'.format(num1, num2, out)\n",
    "print(tmp)"
   ]
  },
  {
   "cell_type": "code",
   "execution_count": 53,
   "metadata": {},
   "outputs": [
    {
     "name": "stdout",
     "output_type": "stream",
     "text": [
      "sum of {10} and 20 is 30\n"
     ]
    }
   ],
   "source": [
    "# f-tag string \n",
    "num1 = 10\n",
    "num2 = 20\n",
    "out = num1 + num2\n",
    "print(f'sum of {num1} and {num2} is {out}')"
   ]
  },
  {
   "cell_type": "code",
   "execution_count": 69,
   "metadata": {},
   "outputs": [
    {
     "name": "stdout",
     "output_type": "stream",
     "text": [
      "value1 {10} 11\n"
     ]
    }
   ],
   "source": [
    "value = 10\n",
    "stm = f'value1 {{{value}}}'\n",
    "print(stm, len(stm))"
   ]
  },
  {
   "cell_type": "code",
   "execution_count": 60,
   "metadata": {},
   "outputs": [
    {
     "name": "stdout",
     "output_type": "stream",
     "text": [
      "\\n 2\n"
     ]
    }
   ],
   "source": [
    "st = ''\n",
    "print(st, len(st))"
   ]
  },
  {
   "cell_type": "code",
   "execution_count": 1,
   "metadata": {},
   "outputs": [
    {
     "name": "stdout",
     "output_type": "stream",
     "text": [
      "hello\n"
     ]
    }
   ],
   "source": [
    "# multipline string \n",
    "st = 'hello'\n",
    "print(st)\n"
   ]
  },
  {
   "cell_type": "code",
   "execution_count": 6,
   "metadata": {},
   "outputs": [
    {
     "name": "stdout",
     "output_type": "stream",
     "text": [
      "'Hello'\n"
     ]
    }
   ],
   "source": [
    "# init of string with double quotes\n",
    "st = \"Hello\"\n",
    "print(repr(st))\n"
   ]
  },
  {
   "cell_type": "code",
   "execution_count": 9,
   "metadata": {},
   "outputs": [
    {
     "name": "stdout",
     "output_type": "stream",
     "text": [
      " 0\n"
     ]
    }
   ],
   "source": [
    "# init empty string \n",
    "st = ''\n",
    "print(st, len(st))"
   ]
  },
  {
   "cell_type": "code",
   "execution_count": 11,
   "metadata": {},
   "outputs": [
    {
     "name": "stdout",
     "output_type": "stream",
     "text": [
      "'my name is rakesh\\ni am from Hons Deppt'\n"
     ]
    }
   ],
   "source": [
    "st = 'my name is rakesh\\ni am from Hons Deppt'\n",
    "print(repr(st))\n",
    "'''\n",
    "WAP djcdc\n",
    "dsc\n",
    "sdv\n",
    "dv\n",
    "\n",
    "v\n",
    "\n",
    "'''"
   ]
  },
  {
   "cell_type": "code",
   "execution_count": 16,
   "metadata": {},
   "outputs": [
    {
     "name": "stdout",
     "output_type": "stream",
     "text": [
      "'\\nmy name is rakesh\\n\\ni am from Hons Deppt\\nPython Programming' 4581722464\n"
     ]
    }
   ],
   "source": [
    "st = \"\"\"\n",
    "my name is rakesh\n",
    "\n",
    "i am from Hons Deppt\n",
    "Python Programming\n",
    "\"\"\"\n",
    "print(repr(st), id(st))"
   ]
  },
  {
   "cell_type": "code",
   "execution_count": 29,
   "metadata": {},
   "outputs": [
    {
     "name": "stdout",
     "output_type": "stream",
     "text": [
      "hello worl'd\n"
     ]
    }
   ],
   "source": [
    "st = \"hello worl'd\"\n",
    "print(st)"
   ]
  },
  {
   "cell_type": "code",
   "execution_count": 44,
   "metadata": {},
   "outputs": [
    {
     "name": "stdout",
     "output_type": "stream",
     "text": [
      "value1: 12138858748574857485\n",
      "value2:    1007676\n",
      "\n"
     ]
    }
   ],
   "source": [
    "value1 = 12138858748574857485\n",
    "value2 = 1007676\n",
    "st = f'''value1: {value1:>10}\n",
    "value2: {value2:>10}\n",
    "'''\n",
    "print(st)"
   ]
  },
  {
   "cell_type": "code",
   "execution_count": 67,
   "metadata": {},
   "outputs": [
    {
     "name": "stdout",
     "output_type": "stream",
     "text": [
      "My name is ffhdh     s 22\n"
     ]
    }
   ],
   "source": [
    "val = 'ffhdh'\n",
    "st = f'My name is {val:<10}s'\n",
    "print(st, len(st))"
   ]
  },
  {
   "cell_type": "code",
   "execution_count": 54,
   "metadata": {},
   "outputs": [
    {
     "name": "stdout",
     "output_type": "stream",
     "text": [
      "10\n"
     ]
    }
   ],
   "source": [
    "st = str(10)\n",
    "print(st.zfill(2))"
   ]
  },
  {
   "cell_type": "code",
   "execution_count": null,
   "metadata": {},
   "outputs": [],
   "source": [
    "# Demonstrating associativity and precedence of 'and' and 'or' in Python\n",
    "\n",
    "# Precedence: 'and' has higher precedence than 'or'\n",
    "result1 = True or False and False  # Evaluates as True or (False and False) -> True or False -> True\n",
    "result2 = (True or False) and False  # Evaluates as (True or False) and False -> True and False -> False\n",
    "\n",
    "# Associativity: 'and' and 'or' are left-associative\n",
    "result3 = True or True or False  # Evaluates as (True or True) or False -> True or False -> True\n",
    "result4 = True and False and True  # Evaluates as (True and False) and True -> False and True -> False\n",
    "\n",
    "print(f\"True or False and False: {result1}\")\n",
    "print(f\"(True or False) and False: {result2}\")\n",
    "print(f\"True or True or False: {result3}\")\n",
    "print(f\"True and False and True: {result4}\")"
   ]
  },
  {
   "cell_type": "code",
   "execution_count": 23,
   "metadata": {},
   "outputs": [
    {
     "name": "stdout",
     "output_type": "stream",
     "text": [
      "\n",
      "value1:            10.000000\n",
      "value2:             1.023233\n",
      "\n"
     ]
    }
   ],
   "source": [
    "a = 10\n",
    "b = 1.023233\n",
    "tmp = f'''\n",
    "value1: {a:20.6f}\n",
    "value2: {b:20.6f}\n",
    "'''\n",
    "print(tmp)"
   ]
  }
 ],
 "metadata": {
  "kernelspec": {
   "display_name": "Python 3",
   "language": "python",
   "name": "python3"
  },
  "language_info": {
   "codemirror_mode": {
    "name": "ipython",
    "version": 3
   },
   "file_extension": ".py",
   "mimetype": "text/x-python",
   "name": "python",
   "nbconvert_exporter": "python",
   "pygments_lexer": "ipython3",
   "version": "3.12.1"
  }
 },
 "nbformat": 4,
 "nbformat_minor": 2
}
