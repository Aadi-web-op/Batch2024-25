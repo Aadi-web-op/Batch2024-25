{
 "cells": [
  {
   "cell_type": "code",
   "execution_count": 10,
   "metadata": {},
   "outputs": [
    {
     "name": "stdout",
     "output_type": "stream",
     "text": [
      "Sum of  23  and  23  is  46\n"
     ]
    }
   ],
   "source": [
    "# String format \n",
    "# How we can put a variable in a string \n",
    "\n",
    "a = 10\n",
    "b = 23\n",
    "c = a + b\n",
    "print('Sum of',a, 'and', b, 'is', c, sep='  ')\n",
    "print(x)"
   ]
  },
  {
   "cell_type": "code",
   "execution_count": 17,
   "metadata": {},
   "outputs": [
    {
     "name": "stdout",
     "output_type": "stream",
     "text": [
      "sum of 11 and 44 is hello\n"
     ]
    }
   ],
   "source": [
    "# % format\n",
    "a = 11\n",
    "b = 44\n",
    "c = 'hello'\n",
    "tmp = 'sum of %d and %d is %s'%(a, b, c)\n",
    "print(tmp)"
   ]
  },
  {
   "cell_type": "code",
   "execution_count": 24,
   "metadata": {},
   "outputs": [
    {
     "name": "stdout",
     "output_type": "stream",
     "text": [
      "sum of [1, 4, 5] and 44.90005 is (3, 5)\n"
     ]
    }
   ],
   "source": [
    "# .format\n",
    "a = [1, 4, 5]\n",
    "b = 44.90005\n",
    "c = (3,5)\n",
    "tmp = 'sum of {} and {} is {}'.format(a, b, c)\n",
    "print(tmp)"
   ]
  },
  {
   "cell_type": "code",
   "execution_count": 115,
   "metadata": {},
   "outputs": [
    {
     "name": "stdout",
     "output_type": "stream",
     "text": [
      "value1     100554\n",
      "value2          1\n"
     ]
    }
   ],
   "source": [
    "value1 = 100554\n",
    "value2 = 1\n",
    "tmp = 'value1 {:>10}\\nvalue2 {:>10}'.format(value1, value2)\n",
    "print(tmp)\n"
   ]
  },
  {
   "cell_type": "code",
   "execution_count": 63,
   "metadata": {},
   "outputs": [
    {
     "name": "stdout",
     "output_type": "stream",
     "text": [
      "\\n 2\n"
     ]
    }
   ],
   "source": [
    "st = '\\\\n'\n",
    "\n",
    "print(st, len(st))"
   ]
  },
  {
   "cell_type": "code",
   "execution_count": null,
   "metadata": {},
   "outputs": [],
   "source": []
  },
  {
   "cell_type": "code",
   "execution_count": null,
   "metadata": {},
   "outputs": [],
   "source": []
  }
 ],
 "metadata": {
  "kernelspec": {
   "display_name": "Python 3",
   "language": "python",
   "name": "python3"
  },
  "language_info": {
   "codemirror_mode": {
    "name": "ipython",
    "version": 3
   },
   "file_extension": ".py",
   "mimetype": "text/x-python",
   "name": "python",
   "nbconvert_exporter": "python",
   "pygments_lexer": "ipython3",
   "version": "3.12.1"
  }
 },
 "nbformat": 4,
 "nbformat_minor": 2
}
