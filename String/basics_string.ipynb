{
 "cells": [
  {
   "cell_type": "code",
   "execution_count": null,
   "metadata": {},
   "outputs": [],
   "source": [
    "# String in Python:\n",
    "# String is a sequence of char\n",
    "# Anything or everything within double quot and single quot is string string in Python\n",
    "# Note: Python Support unicode String default "
   ]
  },
  {
   "cell_type": "code",
   "execution_count": 1,
   "metadata": {},
   "outputs": [
    {
     "name": "stdout",
     "output_type": "stream",
     "text": [
      "<class 'str'>\n"
     ]
    }
   ],
   "source": [
    "st = 'A'\n",
    "print(type(st))"
   ]
  },
  {
   "cell_type": "code",
   "execution_count": 7,
   "metadata": {},
   "outputs": [
    {
     "name": "stdout",
     "output_type": "stream",
     "text": [
      "''\n"
     ]
    }
   ],
   "source": [
    "# How to initialize a string \n",
    "st = '' # String format\n",
    "st = \"\"\n",
    "st = '''''' \n",
    "st = \"\"\"\"\"\"\n",
    "print(repr(st))\n"
   ]
  },
  {
   "cell_type": "code",
   "execution_count": 9,
   "metadata": {},
   "outputs": [
    {
     "name": "stdout",
     "output_type": "stream",
     "text": [
      "''\n"
     ]
    }
   ],
   "source": [
    "# initialize the string using str()\n",
    "st = str()  # constructor \n",
    "print(repr(st))\n"
   ]
  },
  {
   "cell_type": "code",
   "execution_count": 10,
   "metadata": {},
   "outputs": [
    {
     "name": "stdout",
     "output_type": "stream",
     "text": [
      "hello world\n"
     ]
    }
   ],
   "source": [
    "st = 'hello world'\n",
    "print(st)"
   ]
  },
  {
   "cell_type": "code",
   "execution_count": 13,
   "metadata": {},
   "outputs": [
    {
     "name": "stdout",
     "output_type": "stream",
     "text": [
      "hello@world\n"
     ]
    }
   ],
   "source": [
    "# Operations with string in Python\n",
    "# +: Concatenation\n",
    "st1 = 'hello'\n",
    "st2 = '@world'\n",
    "out = st1 + st2 \n",
    "print(out)"
   ]
  },
  {
   "cell_type": "code",
   "execution_count": 21,
   "metadata": {},
   "outputs": [
    {
     "name": "stdout",
     "output_type": "stream",
     "text": [
      "hellohello\n"
     ]
    }
   ],
   "source": [
    "# *: Repition\n",
    "st = 'hello'\n",
    "out = st * 2\n",
    "print(out)\n"
   ]
  },
  {
   "cell_type": "code",
   "execution_count": 23,
   "metadata": {},
   "outputs": [
    {
     "name": "stdout",
     "output_type": "stream",
     "text": [
      "True\n"
     ]
    }
   ],
   "source": [
    "# == Comparison\n",
    "st1 = 'hello'\n",
    "# st2 = 'world'\n",
    "st2 = 'hello'\n",
    "out = st1 == st2\n",
    "print(out)"
   ]
  },
  {
   "cell_type": "code",
   "execution_count": 28,
   "metadata": {},
   "outputs": [
    {
     "name": "stdout",
     "output_type": "stream",
     "text": [
      "True\n"
     ]
    }
   ],
   "source": [
    "# > and < [gt, ge lt, le]\n",
    "st1 = 'ABCd'\n",
    "st2 = 'ABCD'\n",
    "out = st1 > st2\n",
    "print(out)"
   ]
  },
  {
   "cell_type": "code",
   "execution_count": 34,
   "metadata": {},
   "outputs": [
    {
     "name": "stdout",
     "output_type": "stream",
     "text": [
      "True\n"
     ]
    }
   ],
   "source": [
    "# in (membership operator)\n",
    "st1 = 'hello'\n",
    "ch = 'H'\n",
    "# out = ch in st1\n",
    "out = ch not in st1\n",
    "print(out)"
   ]
  },
  {
   "cell_type": "code",
   "execution_count": 37,
   "metadata": {},
   "outputs": [
    {
     "name": "stdout",
     "output_type": "stream",
     "text": [
      "I\n",
      "F\n",
      "M\n",
      "M\n",
      "P\n"
     ]
    }
   ],
   "source": [
    "# string with for loop \n",
    "st = 'hello'\n",
    "for i in st:\n",
    "    uc = ord(i) - 32\n",
    "    print(chr(uc+1))"
   ]
  },
  {
   "cell_type": "code",
   "execution_count": 43,
   "metadata": {},
   "outputs": [
    {
     "name": "stdout",
     "output_type": "stream",
     "text": [
      "l\n"
     ]
    }
   ],
   "source": [
    "# How to get the elements from string \n",
    "# Indexing: get the element(char) with given position\n",
    "st = 'hello'\n",
    "out = st[3]\n",
    "print(out)"
   ]
  },
  {
   "cell_type": "code",
   "execution_count": 50,
   "metadata": {},
   "outputs": [
    {
     "name": "stdout",
     "output_type": "stream",
     "text": [
      "h\n"
     ]
    }
   ],
   "source": [
    "# Reverse Indexing\n",
    "st = 'hello'\n",
    "out = st[-5]\n",
    "print(out)"
   ]
  },
  {
   "cell_type": "code",
   "execution_count": 61,
   "metadata": {},
   "outputs": [
    {
     "name": "stdout",
     "output_type": "stream",
     "text": [
      "hello w\n"
     ]
    }
   ],
   "source": [
    "# Slicing Range: get the elements with range \n",
    "# syntax st[start:stop:step]\n",
    "st = 'hello world'\n",
    "out = st[:7]\n",
    "print(out)\n"
   ]
  },
  {
   "cell_type": "code",
   "execution_count": 65,
   "metadata": {},
   "outputs": [
    {
     "name": "stdout",
     "output_type": "stream",
     "text": [
      "p\n"
     ]
    }
   ],
   "source": [
    "st = 'python programing'\n",
    "out = st[::20]\n",
    "print(out)"
   ]
  },
  {
   "cell_type": "code",
   "execution_count": 91,
   "metadata": {},
   "outputs": [
    {
     "name": "stdout",
     "output_type": "stream",
     "text": [
      "pytho\n"
     ]
    }
   ],
   "source": [
    "# Slicing with negative step size \n",
    "st = 'python'\n",
    "out = st[:-1:1]\n",
    "print(out)"
   ]
  },
  {
   "cell_type": "code",
   "execution_count": 83,
   "metadata": {},
   "outputs": [
    {
     "name": "stdout",
     "output_type": "stream",
     "text": [
      "[10, 9, 8, 7, 6, 5, 4, 3, 2, 1, 0]\n"
     ]
    }
   ],
   "source": [
    "# range()\n",
    "print(list(range(10, -1, -1)))"
   ]
  },
  {
   "cell_type": "code",
   "execution_count": 5,
   "metadata": {},
   "outputs": [
    {
     "name": "stdout",
     "output_type": "stream",
     "text": [
      "32\n"
     ]
    }
   ],
   "source": [
    "st = ' '\n",
    "uc = ord(st)\n",
    "print(uc)"
   ]
  },
  {
   "cell_type": "code",
   "execution_count": 11,
   "metadata": {},
   "outputs": [
    {
     "name": "stdout",
     "output_type": "stream",
     "text": [
      " ''\n"
     ]
    }
   ],
   "source": [
    "# How to initialize the string \n",
    "st = ''  # String format\n",
    "st = \"\"\n",
    "st = \"\"\"\"\"\"\n",
    "\n",
    "# using constructor or function str()\n",
    "st = str()\n",
    "print(st, repr(st))"
   ]
  },
  {
   "cell_type": "code",
   "execution_count": 12,
   "metadata": {},
   "outputs": [
    {
     "name": "stdout",
     "output_type": "stream",
     "text": [
      "hello world\n"
     ]
    }
   ],
   "source": [
    "# initialize a string with chars\n",
    "st = 'hello world'\n",
    "print(st)"
   ]
  },
  {
   "cell_type": "code",
   "execution_count": 13,
   "metadata": {},
   "outputs": [
    {
     "name": "stdout",
     "output_type": "stream",
     "text": [
      "234 '234'\n"
     ]
    }
   ],
   "source": [
    "# String type conversion \n",
    "num = 234\n",
    "st = str(num)\n",
    "print(st, repr(st))\n",
    "# Shallow copy and Deep Copy using str function "
   ]
  },
  {
   "cell_type": "code",
   "execution_count": 16,
   "metadata": {},
   "outputs": [
    {
     "name": "stdout",
     "output_type": "stream",
     "text": [
      "I\n",
      "F\n",
      "M\n",
      "M\n",
      "P\n"
     ]
    }
   ],
   "source": [
    "# for loop with string \n",
    "st = 'hello'\n",
    "for i in st:\n",
    "    uc = ord(i) - 32\n",
    "    print(chr(uc))"
   ]
  },
  {
   "cell_type": "code",
   "execution_count": 98,
   "metadata": {},
   "outputs": [
    {
     "name": "stdout",
     "output_type": "stream",
     "text": [
      "HELLO\n"
     ]
    }
   ],
   "source": [
    "# Methods \n",
    "st = 'hello'\n",
    "out = st.upper()\n",
    "print(out)"
   ]
  },
  {
   "cell_type": "code",
   "execution_count": 104,
   "metadata": {},
   "outputs": [
    {
     "name": "stdout",
     "output_type": "stream",
     "text": [
      "1\n"
     ]
    }
   ],
   "source": [
    "# string methods\n",
    "# 1. Count(ptr, start=0, end=len): Count the occurrance of any given pattern  \n",
    "st = 'hello world'\n",
    "out = st.count('o', 5)\n",
    "print(out)\n"
   ]
  },
  {
   "cell_type": "code",
   "execution_count": 40,
   "metadata": {},
   "outputs": [
    {
     "name": "stdout",
     "output_type": "stream",
     "text": [
      "b: 1\n",
      "a: 3\n",
      "n: 2\n"
     ]
    }
   ],
   "source": [
    "# freq of each char in a given string \n",
    "st = 'banana'\n",
    "reg = ''\n",
    "for ch in st:\n",
    "    if ch not in reg:\n",
    "        print(f'{ch}: {st.count(ch)}')\n",
    "        reg += ch\n",
    "# output\n",
    "b: 1\n",
    "a: 3\n",
    "n: 2"
   ]
  },
  {
   "cell_type": "code",
   "execution_count": null,
   "metadata": {},
   "outputs": [],
   "source": [
    "# Dupilicates \n",
    "st = 'banana'\n",
    "c=''\n",
    "for i in st:\n",
    "    if st.count(i)>1:\n",
    "        if i not in c:\n",
    "            c+=i\n",
    "for i in c:\n",
    "    print(i)\n",
    "\n",
    "# Output\n",
    "a\n",
    "n"
   ]
  },
  {
   "cell_type": "code",
   "execution_count": 39,
   "metadata": {},
   "outputs": [
    {
     "data": {
      "text/plain": [
       "True"
      ]
     },
     "execution_count": 39,
     "metadata": {},
     "output_type": "execute_result"
    }
   ],
   "source": [
    "'G' not in 'hello'"
   ]
  },
  {
   "cell_type": "code",
   "execution_count": null,
   "metadata": {},
   "outputs": [],
   "source": [
    "# 'banana'\n",
    "# 'anana'\n",
    "\n",
    "# 'hello'\n",
    "# 'll'\n",
    "st=\"hello\"\n",
    "c=''\n",
    "for i in st:\n",
    "    if st.count(i)>1:\n",
    "        c+=i\n",
    "print(c)        "
   ]
  },
  {
   "cell_type": "code",
   "execution_count": 51,
   "metadata": {},
   "outputs": [
    {
     "name": "stdout",
     "output_type": "stream",
     "text": [
      "n\n"
     ]
    }
   ],
   "source": [
    "# string Operation \n",
    "# indexing : get the element at position \n",
    "st = 'python'\n",
    "out = st[5]\n",
    "print(out)\n"
   ]
  },
  {
   "cell_type": "code",
   "execution_count": 60,
   "metadata": {},
   "outputs": [
    {
     "name": "stdout",
     "output_type": "stream",
     "text": [
      "p\n"
     ]
    }
   ],
   "source": [
    "# indexing : get the element at position \n",
    "# Reverse Indexing\n",
    "st = 'python'\n",
    "out = st[-6]\n",
    "print(out)"
   ]
  },
  {
   "cell_type": "code",
   "execution_count": 116,
   "metadata": {},
   "outputs": [
    {
     "name": "stdout",
     "output_type": "stream",
     "text": [
      "-1\n"
     ]
    }
   ],
   "source": [
    "# Index(ptr, strt=0, end=len):return the index value of given pattern in string first match\n",
    "st = 'python programming op'\n",
    "out = st.find('G')\n",
    "print(out)\n"
   ]
  },
  {
   "cell_type": "code",
   "execution_count": 68,
   "metadata": {},
   "outputs": [
    {
     "name": "stdout",
     "output_type": "stream",
     "text": [
      "19\n"
     ]
    }
   ],
   "source": [
    "# rindex: \n",
    "st = 'python programming op'\n",
    "out = st.rindex('o')\n",
    "print(out)"
   ]
  },
  {
   "cell_type": "code",
   "execution_count": 79,
   "metadata": {},
   "outputs": [
    {
     "name": "stdout",
     "output_type": "stream",
     "text": [
      "4\n",
      "9\n",
      "19\n"
     ]
    }
   ],
   "source": [
    "# find() and rfind()\n",
    "st = 'python programming op'\n",
    "ch = 'o'\n",
    "c = st.count(ch)\n",
    "b = 0\n",
    "for i in range(c):\n",
    "    a = st.index(ch, b)\n",
    "    b = a + 1\n",
    "    print(a)"
   ]
  },
  {
   "cell_type": "code",
   "execution_count": 9,
   "metadata": {},
   "outputs": [
    {
     "data": {
      "text/plain": [
       "\"Forward raw_input to frontends\\n\\n        Raises\\n        ------\\n        StdinNotImplementedError if active frontend doesn't support stdin.\\n        \""
      ]
     },
     "execution_count": 9,
     "metadata": {},
     "output_type": "execute_result"
    }
   ],
   "source": [
    "input.__doc__"
   ]
  },
  {
   "cell_type": "code",
   "execution_count": 117,
   "metadata": {},
   "outputs": [
    {
     "name": "stdout",
     "output_type": "stream",
     "text": [
      "4\n",
      "9\n",
      "19\n"
     ]
    }
   ],
   "source": [
    "# All Index values of given pattern\n",
    "\n",
    "st = 'python programming op'\n",
    "ch = 'o'\n",
    "cc = st.count(ch)\n",
    "for i in st:\n",
    "    if i == ch:\n",
    "        print(x)\n",
    "    x += 1"
   ]
  },
  {
   "cell_type": "code",
   "execution_count": 118,
   "metadata": {},
   "outputs": [
    {
     "name": "stdout",
     "output_type": "stream",
     "text": [
      "4\n",
      "9\n",
      "19\n"
     ]
    }
   ],
   "source": [
    "# All Index values of given pattern\n",
    "\n",
    "st = 'python programming op'\n",
    "ch = 'o'\n",
    "cc = st.count(ch)\n",
    "t = 0\n",
    "for i in range(cc):\n",
    "    a = st.index(ch, t)\n",
    "    print(a)\n",
    "    t = a + 1"
   ]
  },
  {
   "cell_type": "code",
   "execution_count": null,
   "metadata": {},
   "outputs": [],
   "source": [
    "# Frequency of each char in a given string\n",
    "st = 'banana'\n",
    "# Output\n",
    "# b: 1\n",
    "# a: 3\n",
    "# n: 2"
   ]
  }
 ],
 "metadata": {
  "kernelspec": {
   "display_name": "Python 3",
   "language": "python",
   "name": "python3"
  },
  "language_info": {
   "codemirror_mode": {
    "name": "ipython",
    "version": 3
   },
   "file_extension": ".py",
   "mimetype": "text/x-python",
   "name": "python",
   "nbconvert_exporter": "python",
   "pygments_lexer": "ipython3",
   "version": "3.12.1"
  }
 },
 "nbformat": 4,
 "nbformat_minor": 2
}
