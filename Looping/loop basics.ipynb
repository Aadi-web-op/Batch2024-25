{
 "cells": [
  {
   "cell_type": "code",
   "execution_count": null,
   "metadata": {},
   "outputs": [],
   "source": [
    "# Loop in Python \n",
    "'''\n",
    "1. For Loop: Interation over the seq object (when repetition is known)\n",
    "2. While Loop: Condition Controlled Loop (when only condition is known)\n",
    "'''"
   ]
  },
  {
   "cell_type": "code",
   "execution_count": null,
   "metadata": {},
   "outputs": [],
   "source": [
    "# for Loop\n",
    "'''syntax\n",
    "for val in seq_obj:\n",
    "    statements \n",
    "'''"
   ]
  },
  {
   "cell_type": "code",
   "execution_count": 17,
   "metadata": {},
   "outputs": [
    {
     "name": "stdout",
     "output_type": "stream",
     "text": [
      "h\n",
      "e\n",
      "l\n",
      "l\n",
      "o\n",
      "hello\n"
     ]
    }
   ],
   "source": [
    "\n",
    "x = 'hello'\n",
    "for i in x:\n",
    "    print(i)\n",
    "print('hello')\n"
   ]
  },
  {
   "cell_type": "code",
   "execution_count": 29,
   "metadata": {},
   "outputs": [],
   "source": [
    "# range(start=0, stop=required, step=1)\n",
    "\n",
    "for i in range(12, 11, 20):  \n",
    "    print(i, end=' ')"
   ]
  },
  {
   "cell_type": "code",
   "execution_count": 31,
   "metadata": {},
   "outputs": [
    {
     "name": "stdout",
     "output_type": "stream",
     "text": [
      "ravi\n",
      "ravi\n",
      "ravi\n",
      "ravi\n",
      "ravi\n",
      "ravi\n"
     ]
    }
   ],
   "source": [
    "# repeat name n times \n",
    "name = input('Enter your name ')\n",
    "n = int(input('Enter the value of n[number of repetition] '))\n",
    "\n",
    "for val in range(n):\n",
    "    print( name)"
   ]
  },
  {
   "cell_type": "code",
   "execution_count": 43,
   "metadata": {},
   "outputs": [
    {
     "name": "stdout",
     "output_type": "stream",
     "text": [
      "28\n"
     ]
    }
   ],
   "source": [
    "# display all divisors of given number \n",
    "num = 28\n",
    "sum = 0\n",
    "for i in range(1, num):\n",
    "    if num % i == 0:\n",
    "        sum = sum + i\n",
    "if sum==num:\n",
    "    print(\"perfect no\")\n",
    "else:\n",
    "    print(\"not a perfet no\")\n",
    "\n",
    "\n",
    "# 1 2 4 5 10 20\n"
   ]
  },
  {
   "cell_type": "code",
   "execution_count": 51,
   "metadata": {},
   "outputs": [],
   "source": [
    "# All Perfect number within the given range \n",
    "for num in range(1, 1001):\n",
    "    sum = 0\n",
    "    for i in range(1, num):\n",
    "            if num % i == 0:\n",
    "                sum = sum + i\n",
    "    if sum==num:\n",
    "            print(num)"
   ]
  },
  {
   "cell_type": "code",
   "execution_count": 58,
   "metadata": {},
   "outputs": [
    {
     "name": "stdout",
     "output_type": "stream",
     "text": [
      "2\n"
     ]
    }
   ],
   "source": [
    "# Count the number of divisor \n",
    "num = 29\n",
    "count = 0\n",
    "for i in range(1, num+1):\n",
    "    if num % i == 0:\n",
    "        count == count +1\n",
    "print(count)\n"
   ]
  },
  {
   "cell_type": "code",
   "execution_count": null,
   "metadata": {},
   "outputs": [],
   "source": [
    "# prime or not \n",
    "\n",
    "num = int(input(\"Enter number : \"))\n",
    "count = 0\n",
    "for i in range(1, num+1):\n",
    "    if num % i == 0:\n",
    "        count = 2\n",
    "if count == 0:\n",
    "    print(num,\"is a prime number\")\n",
    "else:\n",
    "    print(num,\"is not a prime number\")\n",
    "        \n"
   ]
  }
 ],
 "metadata": {
  "kernelspec": {
   "display_name": "Python 3",
   "language": "python",
   "name": "python3"
  },
  "language_info": {
   "codemirror_mode": {
    "name": "ipython",
    "version": 3
   },
   "file_extension": ".py",
   "mimetype": "text/x-python",
   "name": "python",
   "nbconvert_exporter": "python",
   "pygments_lexer": "ipython3",
   "version": "3.12.1"
  }
 },
 "nbformat": 4,
 "nbformat_minor": 2
}
