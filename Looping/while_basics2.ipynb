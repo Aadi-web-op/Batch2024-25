{
 "cells": [
  {
   "cell_type": "code",
   "execution_count": 5,
   "metadata": {},
   "outputs": [
    {
     "name": "stdout",
     "output_type": "stream",
     "text": [
      "hello\n",
      "World\n"
     ]
    }
   ],
   "source": [
    "# While Loop: Condition Controlled loop\n",
    "'''\n",
    "while expression:\n",
    "    statements:\n",
    "'''\n",
    "a = 0\n",
    "while a==0:\n",
    "    print('hello')\n",
    "    a -= 1\n",
    "print('World')"
   ]
  },
  {
   "cell_type": "code",
   "execution_count": 18,
   "metadata": {},
   "outputs": [
    {
     "name": "stdout",
     "output_type": "stream",
     "text": [
      "4\n"
     ]
    }
   ],
   "source": [
    "num = 8887\n",
    "count = 0\n",
    "if num == 0:\n",
    "    count = 1\n",
    "while num>0:\n",
    "    num = num // 10\n",
    "    count += 1\n",
    "\n",
    "print(count)"
   ]
  },
  {
   "cell_type": "code",
   "execution_count": 23,
   "metadata": {},
   "outputs": [
    {
     "name": "stdout",
     "output_type": "stream",
     "text": [
      "66121\n"
     ]
    }
   ],
   "source": [
    "# Reverse the digits\n",
    "num = 123\n",
    "reverse_digit = 0\n",
    "while num:\n",
    "    d = num % 10\n",
    "    reverse_digit = reverse_digit * 10 + d\n",
    "    num = num // 10\n",
    "\n",
    "print(reverse_digit)\n",
    "# output\n",
    "# 321"
   ]
  },
  {
   "cell_type": "code",
   "execution_count": null,
   "metadata": {},
   "outputs": [],
   "source": [
    "n = int(input(\"enter number \"))\n",
    "s = 0\n",
    "d = 5\n",
    "while n > 0:\n",
    "    d = n % 10\n",
    "    s = s + d ** d\n",
    "    n = n // 10\n",
    "print(s)    "
   ]
  },
  {
   "cell_type": "code",
   "execution_count": null,
   "metadata": {},
   "outputs": [],
   "source": [
    "# HomeWork\n",
    "# break \n",
    "# continue\n",
    "# pass\n",
    "# else clause of both loop"
   ]
  }
 ],
 "metadata": {
  "kernelspec": {
   "display_name": "Python 3",
   "language": "python",
   "name": "python3"
  },
  "language_info": {
   "codemirror_mode": {
    "name": "ipython",
    "version": 3
   },
   "file_extension": ".py",
   "mimetype": "text/x-python",
   "name": "python",
   "nbconvert_exporter": "python",
   "pygments_lexer": "ipython3",
   "version": "3.12.1"
  }
 },
 "nbformat": 4,
 "nbformat_minor": 2
}
