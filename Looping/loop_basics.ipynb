{
 "cells": [
  {
   "cell_type": "code",
   "execution_count": null,
   "metadata": {},
   "outputs": [],
   "source": [
    "# Looping in Python (Repetition )\n",
    "# 1. for loop\n",
    "# 2. while loop"
   ]
  },
  {
   "cell_type": "code",
   "execution_count": 16,
   "metadata": {},
   "outputs": [
    {
     "name": "stdout",
     "output_type": "stream",
     "text": [
      "Hi*Hi*Hi*Hi*Python#"
     ]
    }
   ],
   "source": [
    "'''\n",
    "syntax\n",
    "for val in seq_obj:\n",
    "    statements\n",
    "\n",
    "'''\n",
    "seq = 'amit'\n",
    "for val in seq:\n",
    "    print('Hi', end='*')\n",
    "    print('Python',end='#')"
   ]
  },
  {
   "cell_type": "code",
   "execution_count": 17,
   "metadata": {},
   "outputs": [
    {
     "name": "stdout",
     "output_type": "stream",
     "text": [
      "1\n",
      "2\n",
      "3\n",
      "4\n",
      "5\n",
      "6\n",
      "7\n",
      "8\n",
      "9\n",
      "1\n",
      "0\n"
     ]
    }
   ],
   "source": [
    "st = '12345678910'\n",
    "for i in st: # i = '1'\n",
    "    print(i+20)\n"
   ]
  },
  {
   "cell_type": "code",
   "execution_count": 23,
   "metadata": {},
   "outputs": [
    {
     "name": "stdout",
     "output_type": "stream",
     "text": [
      "9\n",
      "10\n",
      "11\n",
      "12\n"
     ]
    }
   ],
   "source": [
    "st = [9, 10, 11, 12]\n",
    "for i in st:\n",
    "    print(i)"
   ]
  },
  {
   "cell_type": "code",
   "execution_count": 27,
   "metadata": {},
   "outputs": [
    {
     "name": "stdout",
     "output_type": "stream",
     "text": [
      "0\n",
      "1\n",
      "2\n",
      "3\n",
      "4\n",
      "5\n",
      "6\n",
      "7\n",
      "8\n",
      "9\n",
      "10\n"
     ]
    }
   ],
   "source": [
    "# custom seq \n",
    "'''syntax\n",
    "range(start=0, stop=required, step=1)\n",
    "'''\n",
    "n = 11\n",
    "for i in range(n):\n",
    "    print(i)"
   ]
  },
  {
   "cell_type": "code",
   "execution_count": null,
   "metadata": {},
   "outputs": [],
   "source": [
    "name = input('Enter the name ')\n",
    "n = int(input('Enter the value of n\\n[number of repetition] '))\n",
    "for i in range(n):\n",
    "    print(name)"
   ]
  },
  {
   "cell_type": "code",
   "execution_count": 37,
   "metadata": {},
   "outputs": [
    {
     "name": "stdout",
     "output_type": "stream",
     "text": [
      "0 1 2 "
     ]
    }
   ],
   "source": [
    "for i in range(3):\n",
    "    print(i, end=' ')"
   ]
  },
  {
   "cell_type": "code",
   "execution_count": 44,
   "metadata": {},
   "outputs": [
    {
     "name": "stdout",
     "output_type": "stream",
     "text": [
      "1 2 5 10 "
     ]
    }
   ],
   "source": [
    "num = 10\n",
    "for i in range(1, num+1):\n",
    "    if num % i == 0:\n",
    "        print(i, end=' ')\n",
    "\n",
    "\n",
    "# Output 1 17\n"
   ]
  },
  {
   "cell_type": "code",
   "execution_count": 54,
   "metadata": {},
   "outputs": [
    {
     "name": "stdout",
     "output_type": "stream",
     "text": [
      "Number 28, Sum of All Divisors 28\n"
     ]
    }
   ],
   "source": [
    "# Sum of all the divisors excluding itself \n",
    "num = 28\n",
    "sm = 0\n",
    "for i in range(1, num):\n",
    "    if num % i == 0:\n",
    "        sm = sm + i\n",
    "    \n",
    "if sm == num:\n",
    "    print(\"The number is a perfect number.\")\n",
    "else:\n",
    "    print(\"The number is not a perfect number.\")"
   ]
  },
  {
   "cell_type": "code",
   "execution_count": 61,
   "metadata": {},
   "outputs": [
    {
     "name": "stdout",
     "output_type": "stream",
     "text": [
      "6\n",
      "28\n"
     ]
    }
   ],
   "source": [
    "# display all perfect number 1 to 1000\n",
    "for num in range(1, 100):\n",
    "    sm = 0\n",
    "    for i in range(1, num):\n",
    "        if num % i == 0:\n",
    "            sm = sm + i   \n",
    "    if sm == num:\n",
    "        print(num)"
   ]
  },
  {
   "cell_type": "code",
   "execution_count": 78,
   "metadata": {},
   "outputs": [
    {
     "name": "stdout",
     "output_type": "stream",
     "text": [
      "2 3 5 7 11 "
     ]
    }
   ],
   "source": [
    "# count the number of divisors of a given numbers\n",
    "start = 1\n",
    "stop = 11\n",
    "for n in range(start, stop+1):\n",
    "    s = 0\n",
    "    for i in range(1,n+1):\n",
    "        if n%i==0:\n",
    "            s+=1\n",
    "    if s==2:    \n",
    "        print(n, end=' ')\n",
    "\n",
    "\n"
   ]
  },
  {
   "cell_type": "code",
   "execution_count": 5,
   "metadata": {},
   "outputs": [
    {
     "name": "stdout",
     "output_type": "stream",
     "text": [
      "10 x  1 =     10\n",
      "10 x  2 =     20\n",
      "10 x  3 =     30\n",
      "10 x  4 =     40\n",
      "10 x  5 =     50\n",
      "10 x  6 =     60\n",
      "10 x  7 =     70\n",
      "10 x  8 =     80\n",
      "10 x  9 =     90\n",
      "10 x 10 =    100\n"
     ]
    }
   ],
   "source": [
    "# table for the given \n",
    "num = 2\n",
    "'''\n",
    "2 x 1 = 2\n",
    "2 x 2 = 4\n",
    ".\n",
    ".\n",
    ".\n",
    "2 x 10 = 20\n",
    "\n",
    "'''\n",
    "num = 10\n",
    "for i in range(1,11):\n",
    "    cal = i * num\n",
    "    print (f'{num:2} x {i:2} = {cal:6}')\n",
    "    \n"
   ]
  },
  {
   "cell_type": "code",
   "execution_count": 19,
   "metadata": {},
   "outputs": [
    {
     "name": "stdout",
     "output_type": "stream",
     "text": [
      "01:01:00\n"
     ]
    }
   ],
   "source": [
    "h = str(1)\n",
    "m = str(1)\n",
    "s = str(0)\n",
    "tmp = f'{h.zfill(2)}:{m.zfill(2)}:{s.zfill(2)}'\n",
    "print(tmp)"
   ]
  }
 ],
 "metadata": {
  "kernelspec": {
   "display_name": "Python 3",
   "language": "python",
   "name": "python3"
  },
  "language_info": {
   "codemirror_mode": {
    "name": "ipython",
    "version": 3
   },
   "file_extension": ".py",
   "mimetype": "text/x-python",
   "name": "python",
   "nbconvert_exporter": "python",
   "pygments_lexer": "ipython3",
   "version": "3.12.1"
  }
 },
 "nbformat": 4,
 "nbformat_minor": 2
}
