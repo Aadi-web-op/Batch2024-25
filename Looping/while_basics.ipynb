{
 "cells": [
  {
   "cell_type": "code",
   "execution_count": null,
   "metadata": {},
   "outputs": [],
   "source": [
    "# While Loop: Condition Controlled Loop\n",
    "'''\n",
    "while Expression:\n",
    "    statements\n",
    "\n",
    "Expression: anythings which can return some value  evaluated as true/false\n",
    "'''"
   ]
  },
  {
   "cell_type": "code",
   "execution_count": 17,
   "metadata": {},
   "outputs": [
    {
     "name": "stdout",
     "output_type": "stream",
     "text": [
      "Ravi\n",
      "Ravi\n"
     ]
    }
   ],
   "source": [
    "n = 4\n",
    "while True: \n",
    "    n -= 1\n",
    "    if n > 0:\n",
    "        print('ravi')\n",
    "    else:\n",
    "        break\n",
    "else:\n",
    "    print('Loop Completed')"
   ]
  },
  {
   "cell_type": "code",
   "execution_count": 22,
   "metadata": {},
   "outputs": [
    {
     "name": "stdout",
     "output_type": "stream",
     "text": [
      "Start\n",
      "5 hello\n",
      "4 world\n",
      "4 hello\n",
      "3 world\n",
      "3 hello\n",
      "2 hello\n",
      "1 world\n",
      "1 hello\n",
      "0 world\n",
      "Stop\n"
     ]
    }
   ],
   "source": [
    "# continue\n",
    "num = 5\n",
    "print('Start')\n",
    "while num:\n",
    "    print(num, 'hello')\n",
    "    num -= 1\n",
    "    if num == 2:\n",
    "        continue\n",
    "    print(num, 'world')\n",
    "    \n",
    "print('Stop')"
   ]
  },
  {
   "cell_type": "code",
   "execution_count": 36,
   "metadata": {},
   "outputs": [
    {
     "name": "stdout",
     "output_type": "stream",
     "text": [
      "1 2 3 "
     ]
    }
   ],
   "source": [
    "num = 10\n",
    "count = 1\n",
    "while num > 0:\n",
    "    num = num - 1\n",
    "    if num > 2:\n",
    "        continue\n",
    "    print(count, end=' ')\n",
    "    count += 1\n",
    "    "
   ]
  },
  {
   "cell_type": "code",
   "execution_count": null,
   "metadata": {},
   "outputs": [],
   "source": [
    "while True:\n",
    "    print('Aditya')\n",
    "    "
   ]
  },
  {
   "cell_type": "code",
   "execution_count": null,
   "metadata": {},
   "outputs": [],
   "source": []
  },
  {
   "cell_type": "code",
   "execution_count": null,
   "metadata": {},
   "outputs": [],
   "source": []
  },
  {
   "cell_type": "code",
   "execution_count": null,
   "metadata": {},
   "outputs": [],
   "source": []
  }
 ],
 "metadata": {
  "kernelspec": {
   "display_name": "Python 3",
   "language": "python",
   "name": "python3"
  },
  "language_info": {
   "codemirror_mode": {
    "name": "ipython",
    "version": 3
   },
   "file_extension": ".py",
   "mimetype": "text/x-python",
   "name": "python",
   "nbconvert_exporter": "python",
   "pygments_lexer": "ipython3",
   "version": "3.12.1"
  }
 },
 "nbformat": 4,
 "nbformat_minor": 2
}
